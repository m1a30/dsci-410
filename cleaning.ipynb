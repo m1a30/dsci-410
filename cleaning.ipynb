{
 "cells": [
  {
   "cell_type": "code",
   "execution_count": 123,
   "id": "448e2229-3910-4b97-ac70-1f4c2f39ed0d",
   "metadata": {
    "tags": []
   },
   "outputs": [],
   "source": [
    "import numpy as np\n",
    "import pandas as pd\n",
    "import matplotlib.pyplot as plt\n",
    "import seaborn as sns"
   ]
  },
  {
   "cell_type": "markdown",
   "id": "afdad466-b214-47bb-a0ba-4ebfcc337da3",
   "metadata": {},
   "source": [
    "# Loading Data In"
   ]
  },
  {
   "cell_type": "code",
   "execution_count": 125,
   "id": "152ca38f-7b9c-4383-a70b-8dcfd696441f",
   "metadata": {
    "tags": []
   },
   "outputs": [
    {
     "data": {
      "text/html": [
       "<div>\n",
       "<style scoped>\n",
       "    .dataframe tbody tr th:only-of-type {\n",
       "        vertical-align: middle;\n",
       "    }\n",
       "\n",
       "    .dataframe tbody tr th {\n",
       "        vertical-align: top;\n",
       "    }\n",
       "\n",
       "    .dataframe thead th {\n",
       "        text-align: right;\n",
       "    }\n",
       "</style>\n",
       "<table border=\"1\" class=\"dataframe\">\n",
       "  <thead>\n",
       "    <tr style=\"text-align: right;\">\n",
       "      <th></th>\n",
       "      <th>Date</th>\n",
       "      <th>TimeOfCall</th>\n",
       "      <th>Age</th>\n",
       "      <th>Gender</th>\n",
       "      <th>Race</th>\n",
       "      <th>Language</th>\n",
       "      <th>City</th>\n",
       "      <th>Reason for Dispatch</th>\n",
       "    </tr>\n",
       "  </thead>\n",
       "  <tbody>\n",
       "    <tr>\n",
       "      <th>0</th>\n",
       "      <td>12/7/22</td>\n",
       "      <td>1:28:00</td>\n",
       "      <td>16</td>\n",
       "      <td>Male</td>\n",
       "      <td>Chose not to Disclose</td>\n",
       "      <td>English</td>\n",
       "      <td>Eugene</td>\n",
       "      <td>Counseling</td>\n",
       "    </tr>\n",
       "    <tr>\n",
       "      <th>1</th>\n",
       "      <td>11/10/22</td>\n",
       "      <td>13:12:00</td>\n",
       "      <td>55</td>\n",
       "      <td>Male</td>\n",
       "      <td>White</td>\n",
       "      <td>English</td>\n",
       "      <td>Eugene</td>\n",
       "      <td>Police Assist</td>\n",
       "    </tr>\n",
       "    <tr>\n",
       "      <th>2</th>\n",
       "      <td>1/20/21</td>\n",
       "      <td>17:25:01</td>\n",
       "      <td>53</td>\n",
       "      <td>Male</td>\n",
       "      <td>White</td>\n",
       "      <td>English</td>\n",
       "      <td>Eugene</td>\n",
       "      <td>Public Assist</td>\n",
       "    </tr>\n",
       "    <tr>\n",
       "      <th>3</th>\n",
       "      <td>1/20/21</td>\n",
       "      <td>21:34:01</td>\n",
       "      <td>32</td>\n",
       "      <td>Female</td>\n",
       "      <td>White</td>\n",
       "      <td>English</td>\n",
       "      <td>Eugene</td>\n",
       "      <td>Public Assist</td>\n",
       "    </tr>\n",
       "    <tr>\n",
       "      <th>4</th>\n",
       "      <td>1/20/21</td>\n",
       "      <td>22:10:30</td>\n",
       "      <td>50</td>\n",
       "      <td>Male</td>\n",
       "      <td>Black or African American</td>\n",
       "      <td>English</td>\n",
       "      <td>Eugene</td>\n",
       "      <td>Public Assist</td>\n",
       "    </tr>\n",
       "    <tr>\n",
       "      <th>...</th>\n",
       "      <td>...</td>\n",
       "      <td>...</td>\n",
       "      <td>...</td>\n",
       "      <td>...</td>\n",
       "      <td>...</td>\n",
       "      <td>...</td>\n",
       "      <td>...</td>\n",
       "      <td>...</td>\n",
       "    </tr>\n",
       "    <tr>\n",
       "      <th>46895</th>\n",
       "      <td>12/10/22</td>\n",
       "      <td>12:37:34</td>\n",
       "      <td>Unavailable</td>\n",
       "      <td>Female</td>\n",
       "      <td>Chose not to Disclose</td>\n",
       "      <td>English</td>\n",
       "      <td>Springfield</td>\n",
       "      <td>Check Welfare</td>\n",
       "    </tr>\n",
       "    <tr>\n",
       "      <th>46896</th>\n",
       "      <td>12/10/22</td>\n",
       "      <td>13:04:57</td>\n",
       "      <td>27</td>\n",
       "      <td>Female</td>\n",
       "      <td>White</td>\n",
       "      <td>English</td>\n",
       "      <td>Springfield</td>\n",
       "      <td>Transport</td>\n",
       "    </tr>\n",
       "    <tr>\n",
       "      <th>46897</th>\n",
       "      <td>12/10/22</td>\n",
       "      <td>13:55:49</td>\n",
       "      <td>89</td>\n",
       "      <td>Female</td>\n",
       "      <td>White</td>\n",
       "      <td>English</td>\n",
       "      <td>Springfield</td>\n",
       "      <td>Check Welfare</td>\n",
       "    </tr>\n",
       "    <tr>\n",
       "      <th>46898</th>\n",
       "      <td>12/10/22</td>\n",
       "      <td>15:06:45</td>\n",
       "      <td>41</td>\n",
       "      <td>Female</td>\n",
       "      <td>White</td>\n",
       "      <td>English</td>\n",
       "      <td>Springfield</td>\n",
       "      <td>Transport</td>\n",
       "    </tr>\n",
       "    <tr>\n",
       "      <th>46899</th>\n",
       "      <td>6/13/22</td>\n",
       "      <td>5:13</td>\n",
       "      <td>Unavailable</td>\n",
       "      <td>Female</td>\n",
       "      <td>Chose not to Disclose</td>\n",
       "      <td>English</td>\n",
       "      <td>Eugene</td>\n",
       "      <td>Check Welfare</td>\n",
       "    </tr>\n",
       "  </tbody>\n",
       "</table>\n",
       "<p>46897 rows × 8 columns</p>\n",
       "</div>"
      ],
      "text/plain": [
       "           Date TimeOfCall          Age  Gender                       Race  \\\n",
       "0       12/7/22    1:28:00           16    Male      Chose not to Disclose   \n",
       "1      11/10/22   13:12:00           55    Male                      White   \n",
       "2       1/20/21   17:25:01           53    Male                      White   \n",
       "3       1/20/21   21:34:01           32  Female                      White   \n",
       "4       1/20/21   22:10:30           50    Male  Black or African American   \n",
       "...         ...        ...          ...     ...                        ...   \n",
       "46895  12/10/22   12:37:34  Unavailable  Female      Chose not to Disclose   \n",
       "46896  12/10/22   13:04:57           27  Female                      White   \n",
       "46897  12/10/22   13:55:49           89  Female                      White   \n",
       "46898  12/10/22   15:06:45           41  Female                      White   \n",
       "46899   6/13/22       5:13  Unavailable  Female      Chose not to Disclose   \n",
       "\n",
       "      Language         City Reason for Dispatch  \n",
       "0      English       Eugene          Counseling  \n",
       "1      English       Eugene       Police Assist  \n",
       "2      English       Eugene       Public Assist  \n",
       "3      English       Eugene       Public Assist  \n",
       "4      English       Eugene       Public Assist  \n",
       "...        ...          ...                 ...  \n",
       "46895  English  Springfield       Check Welfare  \n",
       "46896  English  Springfield           Transport  \n",
       "46897  English  Springfield       Check Welfare  \n",
       "46898  English  Springfield           Transport  \n",
       "46899  English       Eugene       Check Welfare  \n",
       "\n",
       "[46897 rows x 8 columns]"
      ]
     },
     "execution_count": 125,
     "metadata": {},
     "output_type": "execute_result"
    }
   ],
   "source": [
    "# loading in CAHOOTS data from 2021 and 2022\n",
    "call_data_21_22 = pd.read_csv(\"call_data_from_CAHOOTS_2021_2022.csv\")\n",
    "#no_na_call_data_21_22 = call_data_21_22.dropna()\n",
    "no_na_call_data_21_22"
   ]
  },
  {
   "cell_type": "code",
   "execution_count": 127,
   "id": "d1875a0b-47f7-45f7-b50e-a28cb66773ad",
   "metadata": {
    "tags": []
   },
   "outputs": [
    {
     "data": {
      "text/html": [
       "<div>\n",
       "<style scoped>\n",
       "    .dataframe tbody tr th:only-of-type {\n",
       "        vertical-align: middle;\n",
       "    }\n",
       "\n",
       "    .dataframe tbody tr th {\n",
       "        vertical-align: top;\n",
       "    }\n",
       "\n",
       "    .dataframe thead th {\n",
       "        text-align: right;\n",
       "    }\n",
       "</style>\n",
       "<table border=\"1\" class=\"dataframe\">\n",
       "  <thead>\n",
       "    <tr style=\"text-align: right;\">\n",
       "      <th></th>\n",
       "      <th>Date</th>\n",
       "      <th>TimeOfCall</th>\n",
       "      <th>Age</th>\n",
       "      <th>Gender</th>\n",
       "      <th>Race</th>\n",
       "      <th>Language</th>\n",
       "      <th>City</th>\n",
       "      <th>Reason for Dispatch</th>\n",
       "    </tr>\n",
       "  </thead>\n",
       "  <tbody>\n",
       "    <tr>\n",
       "      <th>0</th>\n",
       "      <td>1/1/23</td>\n",
       "      <td>0:05:33</td>\n",
       "      <td>57</td>\n",
       "      <td>Female</td>\n",
       "      <td>White</td>\n",
       "      <td>English</td>\n",
       "      <td>Eugene</td>\n",
       "      <td>Public Assist</td>\n",
       "    </tr>\n",
       "    <tr>\n",
       "      <th>1</th>\n",
       "      <td>1/1/23</td>\n",
       "      <td>0:05:00</td>\n",
       "      <td>Not Given</td>\n",
       "      <td>Male</td>\n",
       "      <td>NaN</td>\n",
       "      <td>English</td>\n",
       "      <td>Eugene</td>\n",
       "      <td>Check Welfare</td>\n",
       "    </tr>\n",
       "    <tr>\n",
       "      <th>2</th>\n",
       "      <td>1/1/23</td>\n",
       "      <td>1:09:51</td>\n",
       "      <td>Not Given</td>\n",
       "      <td>Female</td>\n",
       "      <td>NaN</td>\n",
       "      <td>English</td>\n",
       "      <td>Eugene</td>\n",
       "      <td>Information Not Available</td>\n",
       "    </tr>\n",
       "    <tr>\n",
       "      <th>3</th>\n",
       "      <td>1/1/23</td>\n",
       "      <td>1:33:15</td>\n",
       "      <td>Not Given</td>\n",
       "      <td>Female</td>\n",
       "      <td>NaN</td>\n",
       "      <td>English</td>\n",
       "      <td>Eugene</td>\n",
       "      <td>Public Assist</td>\n",
       "    </tr>\n",
       "    <tr>\n",
       "      <th>4</th>\n",
       "      <td>1/1/23</td>\n",
       "      <td>1:45:30</td>\n",
       "      <td>67</td>\n",
       "      <td>Female</td>\n",
       "      <td>White</td>\n",
       "      <td>English</td>\n",
       "      <td>Eugene</td>\n",
       "      <td>Public Assist</td>\n",
       "    </tr>\n",
       "    <tr>\n",
       "      <th>...</th>\n",
       "      <td>...</td>\n",
       "      <td>...</td>\n",
       "      <td>...</td>\n",
       "      <td>...</td>\n",
       "      <td>...</td>\n",
       "      <td>...</td>\n",
       "      <td>...</td>\n",
       "      <td>...</td>\n",
       "    </tr>\n",
       "    <tr>\n",
       "      <th>19565</th>\n",
       "      <td>12/31/23</td>\n",
       "      <td>9:33:35 PM</td>\n",
       "      <td>Not Given</td>\n",
       "      <td>Chose not to disclose</td>\n",
       "      <td>White</td>\n",
       "      <td>English</td>\n",
       "      <td>Springfield</td>\n",
       "      <td>Information Not Available</td>\n",
       "    </tr>\n",
       "    <tr>\n",
       "      <th>19566</th>\n",
       "      <td>12/31/23</td>\n",
       "      <td>9:51:35 PM</td>\n",
       "      <td>Not Given</td>\n",
       "      <td>Chose not to disclose</td>\n",
       "      <td>NaN</td>\n",
       "      <td>English</td>\n",
       "      <td>Informatio not recorded</td>\n",
       "      <td>Information Not Available</td>\n",
       "    </tr>\n",
       "    <tr>\n",
       "      <th>19567</th>\n",
       "      <td>12/31/23</td>\n",
       "      <td>9:58:10 PM</td>\n",
       "      <td>17</td>\n",
       "      <td>Chose not to disclose</td>\n",
       "      <td>White</td>\n",
       "      <td>English</td>\n",
       "      <td>Eugene</td>\n",
       "      <td>Information Not Available</td>\n",
       "    </tr>\n",
       "    <tr>\n",
       "      <th>19568</th>\n",
       "      <td>12/31/23</td>\n",
       "      <td>10:15:00 PM</td>\n",
       "      <td>17</td>\n",
       "      <td>Chose not to disclose</td>\n",
       "      <td>White</td>\n",
       "      <td>English</td>\n",
       "      <td>Eugene</td>\n",
       "      <td>Information Not Available</td>\n",
       "    </tr>\n",
       "    <tr>\n",
       "      <th>19569</th>\n",
       "      <td>12/31/23</td>\n",
       "      <td>11:55:36 PM</td>\n",
       "      <td>Not Given</td>\n",
       "      <td>Chose not to disclose</td>\n",
       "      <td>NaN</td>\n",
       "      <td>English</td>\n",
       "      <td>Eugene</td>\n",
       "      <td>Information Not Available</td>\n",
       "    </tr>\n",
       "  </tbody>\n",
       "</table>\n",
       "<p>19570 rows × 8 columns</p>\n",
       "</div>"
      ],
      "text/plain": [
       "           Date   TimeOfCall        Age                 Gender   Race  \\\n",
       "0        1/1/23      0:05:33         57                 Female  White   \n",
       "1        1/1/23      0:05:00  Not Given                   Male    NaN   \n",
       "2        1/1/23      1:09:51  Not Given                 Female    NaN   \n",
       "3        1/1/23      1:33:15  Not Given                 Female    NaN   \n",
       "4        1/1/23      1:45:30         67                 Female  White   \n",
       "...         ...          ...        ...                    ...    ...   \n",
       "19565  12/31/23   9:33:35 PM  Not Given  Chose not to disclose  White   \n",
       "19566  12/31/23   9:51:35 PM  Not Given  Chose not to disclose    NaN   \n",
       "19567  12/31/23   9:58:10 PM         17  Chose not to disclose  White   \n",
       "19568  12/31/23  10:15:00 PM         17  Chose not to disclose  White   \n",
       "19569  12/31/23  11:55:36 PM  Not Given  Chose not to disclose    NaN   \n",
       "\n",
       "      Language                     City        Reason for Dispatch  \n",
       "0      English                   Eugene              Public Assist  \n",
       "1      English                   Eugene              Check Welfare  \n",
       "2      English                   Eugene  Information Not Available  \n",
       "3      English                   Eugene              Public Assist  \n",
       "4      English                   Eugene              Public Assist  \n",
       "...        ...                      ...                        ...  \n",
       "19565  English              Springfield  Information Not Available  \n",
       "19566  English  Informatio not recorded  Information Not Available  \n",
       "19567  English                   Eugene  Information Not Available  \n",
       "19568  English                   Eugene  Information Not Available  \n",
       "19569  English                   Eugene  Information Not Available  \n",
       "\n",
       "[19570 rows x 8 columns]"
      ]
     },
     "execution_count": 127,
     "metadata": {},
     "output_type": "execute_result"
    }
   ],
   "source": [
    "# loading in CAHOOTS data from 2023\n",
    "call_data_2023 = pd.read_csv(\"call_data_from_CAHOOTS.csv\")\n",
    "call_data_2023"
   ]
  },
  {
   "cell_type": "markdown",
   "id": "58ff1543-b2a3-4573-94e0-d0cfe029f4a8",
   "metadata": {},
   "source": [
    "# Merging 2021, 2022, and 2023 Data"
   ]
  },
  {
   "cell_type": "code",
   "execution_count": 129,
   "id": "c3f2f74f-7da6-4682-8fbb-8c442fcbdcec",
   "metadata": {
    "tags": []
   },
   "outputs": [
    {
     "data": {
      "text/html": [
       "<div>\n",
       "<style scoped>\n",
       "    .dataframe tbody tr th:only-of-type {\n",
       "        vertical-align: middle;\n",
       "    }\n",
       "\n",
       "    .dataframe tbody tr th {\n",
       "        vertical-align: top;\n",
       "    }\n",
       "\n",
       "    .dataframe thead th {\n",
       "        text-align: right;\n",
       "    }\n",
       "</style>\n",
       "<table border=\"1\" class=\"dataframe\">\n",
       "  <thead>\n",
       "    <tr style=\"text-align: right;\">\n",
       "      <th></th>\n",
       "      <th>Date</th>\n",
       "      <th>TimeOfCall</th>\n",
       "      <th>Age</th>\n",
       "      <th>Gender</th>\n",
       "      <th>Race</th>\n",
       "      <th>Language</th>\n",
       "      <th>City</th>\n",
       "      <th>Reason for Dispatch</th>\n",
       "    </tr>\n",
       "  </thead>\n",
       "  <tbody>\n",
       "    <tr>\n",
       "      <th>0</th>\n",
       "      <td>1/1/22</td>\n",
       "      <td>0:11:00</td>\n",
       "      <td>46</td>\n",
       "      <td>Male</td>\n",
       "      <td>White</td>\n",
       "      <td>English</td>\n",
       "      <td>Eugene</td>\n",
       "      <td>Public Assist</td>\n",
       "    </tr>\n",
       "    <tr>\n",
       "      <th>1</th>\n",
       "      <td>1/1/22</td>\n",
       "      <td>0:26:16</td>\n",
       "      <td>55</td>\n",
       "      <td>Male</td>\n",
       "      <td>White</td>\n",
       "      <td>English</td>\n",
       "      <td>Eugene</td>\n",
       "      <td>Public Assist</td>\n",
       "    </tr>\n",
       "    <tr>\n",
       "      <th>2</th>\n",
       "      <td>1/1/22</td>\n",
       "      <td>10:10:33</td>\n",
       "      <td>Unavailable</td>\n",
       "      <td>Male</td>\n",
       "      <td>Chose not to Disclose</td>\n",
       "      <td>English</td>\n",
       "      <td>Eugene</td>\n",
       "      <td>Public Assist</td>\n",
       "    </tr>\n",
       "    <tr>\n",
       "      <th>3</th>\n",
       "      <td>1/1/22</td>\n",
       "      <td>10:30:02</td>\n",
       "      <td>81</td>\n",
       "      <td>Female</td>\n",
       "      <td>White</td>\n",
       "      <td>English</td>\n",
       "      <td>Eugene</td>\n",
       "      <td>Transport</td>\n",
       "    </tr>\n",
       "    <tr>\n",
       "      <th>4</th>\n",
       "      <td>1/1/22</td>\n",
       "      <td>11:08:33</td>\n",
       "      <td>51</td>\n",
       "      <td>Male</td>\n",
       "      <td>White</td>\n",
       "      <td>English</td>\n",
       "      <td>Eugene</td>\n",
       "      <td>Check Welfare</td>\n",
       "    </tr>\n",
       "    <tr>\n",
       "      <th>...</th>\n",
       "      <td>...</td>\n",
       "      <td>...</td>\n",
       "      <td>...</td>\n",
       "      <td>...</td>\n",
       "      <td>...</td>\n",
       "      <td>...</td>\n",
       "      <td>...</td>\n",
       "      <td>...</td>\n",
       "    </tr>\n",
       "    <tr>\n",
       "      <th>67516</th>\n",
       "      <td>NaN</td>\n",
       "      <td>NaN</td>\n",
       "      <td>NaN</td>\n",
       "      <td>NaN</td>\n",
       "      <td>NaN</td>\n",
       "      <td>NaN</td>\n",
       "      <td>NaN</td>\n",
       "      <td>NaN</td>\n",
       "    </tr>\n",
       "    <tr>\n",
       "      <th>67517</th>\n",
       "      <td>NaN</td>\n",
       "      <td>NaN</td>\n",
       "      <td>NaN</td>\n",
       "      <td>NaN</td>\n",
       "      <td>NaN</td>\n",
       "      <td>NaN</td>\n",
       "      <td>NaN</td>\n",
       "      <td>NaN</td>\n",
       "    </tr>\n",
       "    <tr>\n",
       "      <th>67518</th>\n",
       "      <td>NaN</td>\n",
       "      <td>NaN</td>\n",
       "      <td>NaN</td>\n",
       "      <td>NaN</td>\n",
       "      <td>NaN</td>\n",
       "      <td>NaN</td>\n",
       "      <td>NaN</td>\n",
       "      <td>NaN</td>\n",
       "    </tr>\n",
       "    <tr>\n",
       "      <th>67519</th>\n",
       "      <td>NaN</td>\n",
       "      <td>NaN</td>\n",
       "      <td>NaN</td>\n",
       "      <td>NaN</td>\n",
       "      <td>NaN</td>\n",
       "      <td>NaN</td>\n",
       "      <td>NaN</td>\n",
       "      <td>NaN</td>\n",
       "    </tr>\n",
       "    <tr>\n",
       "      <th>67520</th>\n",
       "      <td>NaN</td>\n",
       "      <td>NaN</td>\n",
       "      <td>NaN</td>\n",
       "      <td>NaN</td>\n",
       "      <td>NaN</td>\n",
       "      <td>NaN</td>\n",
       "      <td>NaN</td>\n",
       "      <td>NaN</td>\n",
       "    </tr>\n",
       "  </tbody>\n",
       "</table>\n",
       "<p>67521 rows × 8 columns</p>\n",
       "</div>"
      ],
      "text/plain": [
       "         Date TimeOfCall          Age  Gender                   Race Language  \\\n",
       "0      1/1/22    0:11:00           46    Male                  White  English   \n",
       "1      1/1/22    0:26:16           55    Male                  White  English   \n",
       "2      1/1/22   10:10:33  Unavailable    Male  Chose not to Disclose  English   \n",
       "3      1/1/22   10:30:02           81  Female                  White  English   \n",
       "4      1/1/22   11:08:33           51    Male                  White  English   \n",
       "...       ...        ...          ...     ...                    ...      ...   \n",
       "67516     NaN        NaN          NaN     NaN                    NaN      NaN   \n",
       "67517     NaN        NaN          NaN     NaN                    NaN      NaN   \n",
       "67518     NaN        NaN          NaN     NaN                    NaN      NaN   \n",
       "67519     NaN        NaN          NaN     NaN                    NaN      NaN   \n",
       "67520     NaN        NaN          NaN     NaN                    NaN      NaN   \n",
       "\n",
       "         City Reason for Dispatch  \n",
       "0      Eugene       Public Assist  \n",
       "1      Eugene       Public Assist  \n",
       "2      Eugene       Public Assist  \n",
       "3      Eugene           Transport  \n",
       "4      Eugene       Check Welfare  \n",
       "...       ...                 ...  \n",
       "67516     NaN                 NaN  \n",
       "67517     NaN                 NaN  \n",
       "67518     NaN                 NaN  \n",
       "67519     NaN                 NaN  \n",
       "67520     NaN                 NaN  \n",
       "\n",
       "[67521 rows x 8 columns]"
      ]
     },
     "execution_count": 129,
     "metadata": {},
     "output_type": "execute_result"
    }
   ],
   "source": [
    "# merging the CAHOOTS 2021, 2022, and 2023 data\n",
    "CAHOOTS_call_data = call_data_21_22.merge(call_data_2023, how=\"outer\")\n",
    "CAHOOTS_call_data"
   ]
  },
  {
   "cell_type": "markdown",
   "id": "e5212eb4-807f-4b6e-9dad-02bccb94409e",
   "metadata": {},
   "source": [
    "# Exploring Where There are NA values/if there are any patterns"
   ]
  },
  {
   "cell_type": "code",
   "execution_count": 131,
   "id": "678a031e-1c00-47d2-b808-c6568c38a9d9",
   "metadata": {
    "tags": []
   },
   "outputs": [
    {
     "name": "stderr",
     "output_type": "stream",
     "text": [
      "/var/folders/48/72hxbzzj791_c7th7nv0p31h0000gn/T/ipykernel_10166/2796675698.py:6: FutureWarning: A value is trying to be set on a copy of a DataFrame or Series through chained assignment using an inplace method.\n",
      "The behavior will change in pandas 3.0. This inplace method will never work because the intermediate object on which we are setting values always behaves as a copy.\n",
      "\n",
      "For example, when doing 'df[col].method(value, inplace=True)', try using 'df.method({col: value}, inplace=True)' or df[col] = df[col].method(value) instead, to perform the operation inplace on the original object.\n",
      "\n",
      "\n",
      "  cahoots_age_rfd_nas['Age'].fillna(\"NA\", inplace=True)\n"
     ]
    },
    {
     "data": {
      "text/html": [
       "<div>\n",
       "<style scoped>\n",
       "    .dataframe tbody tr th:only-of-type {\n",
       "        vertical-align: middle;\n",
       "    }\n",
       "\n",
       "    .dataframe tbody tr th {\n",
       "        vertical-align: top;\n",
       "    }\n",
       "\n",
       "    .dataframe thead th {\n",
       "        text-align: right;\n",
       "    }\n",
       "</style>\n",
       "<table border=\"1\" class=\"dataframe\">\n",
       "  <thead>\n",
       "    <tr style=\"text-align: right;\">\n",
       "      <th></th>\n",
       "      <th>Reason for Dispatch</th>\n",
       "      <th>NA Count</th>\n",
       "    </tr>\n",
       "  </thead>\n",
       "  <tbody>\n",
       "    <tr>\n",
       "      <th>0</th>\n",
       "      <td>Check Welfare</td>\n",
       "      <td>15484</td>\n",
       "    </tr>\n",
       "    <tr>\n",
       "      <th>1</th>\n",
       "      <td>Check Welfare</td>\n",
       "      <td>1</td>\n",
       "    </tr>\n",
       "    <tr>\n",
       "      <th>2</th>\n",
       "      <td>Counseling</td>\n",
       "      <td>200</td>\n",
       "    </tr>\n",
       "    <tr>\n",
       "      <th>3</th>\n",
       "      <td>EMS Assist</td>\n",
       "      <td>79</td>\n",
       "    </tr>\n",
       "    <tr>\n",
       "      <th>4</th>\n",
       "      <td>Fire Assist</td>\n",
       "      <td>133</td>\n",
       "    </tr>\n",
       "    <tr>\n",
       "      <th>5</th>\n",
       "      <td>Information Not Available</td>\n",
       "      <td>2373</td>\n",
       "    </tr>\n",
       "    <tr>\n",
       "      <th>6</th>\n",
       "      <td>Police Assist</td>\n",
       "      <td>1250</td>\n",
       "    </tr>\n",
       "    <tr>\n",
       "      <th>7</th>\n",
       "      <td>Public Assist</td>\n",
       "      <td>8628</td>\n",
       "    </tr>\n",
       "    <tr>\n",
       "      <th>8</th>\n",
       "      <td>Suicidal Subject</td>\n",
       "      <td>473</td>\n",
       "    </tr>\n",
       "    <tr>\n",
       "      <th>9</th>\n",
       "      <td>Transport</td>\n",
       "      <td>622</td>\n",
       "    </tr>\n",
       "  </tbody>\n",
       "</table>\n",
       "</div>"
      ],
      "text/plain": [
       "         Reason for Dispatch  NA Count\n",
       "0              Check Welfare     15484\n",
       "1             Check Welfare\n",
       "         1\n",
       "2                 Counseling       200\n",
       "3                 EMS Assist        79\n",
       "4                Fire Assist       133\n",
       "5  Information Not Available      2373\n",
       "6              Police Assist      1250\n",
       "7              Public Assist      8628\n",
       "8           Suicidal Subject       473\n",
       "9                  Transport       622"
      ]
     },
     "execution_count": 131,
     "metadata": {},
     "output_type": "execute_result"
    }
   ],
   "source": [
    "# Assuming CAHOOTS_age_all is your DataFrame and it's properly loaded\n",
    "\n",
    "cahoots_age_rfd_nas = CAHOOTS_call_data.drop([\"TimeOfCall\",\"Gender\", \"Race\", \"Language\",\"City\", \"Date\"], axis=1)\n",
    "\n",
    "# Replace 'Unavailable' and 'Not Given' with 'NA'\n",
    "cahoots_age_rfd_nas['Age'].fillna(\"NA\", inplace=True)\n",
    "cahoots_age_rfd_nas['Age'].replace(\"Not Given\", \"NA\", inplace=True)\n",
    "cahoots_age_rfd_nas['Age'].replace(\"Unavailable\", \"NA\", inplace=True)\n",
    "\n",
    "# Filter for 'NA' values in the 'Age' column\n",
    "na_ages = cahoots_age_rfd_nas[cahoots_age_rfd_nas['Age'] == \"NA\"]\n",
    "\n",
    "# Group by 'Reason for Dispatch' and count 'NA' entries\n",
    "na_counts = na_ages.groupby('Reason for Dispatch').size()\n",
    "\n",
    "# Optionally, convert to DataFrame for better visualization\n",
    "na_counts_df = na_counts.reset_index(name='NA Count')\n",
    "\n",
    "na_counts_df"
   ]
  },
  {
   "cell_type": "code",
   "execution_count": 133,
   "id": "10848044-d145-4625-91c1-0c6c41dec095",
   "metadata": {
    "tags": []
   },
   "outputs": [
    {
     "data": {
      "text/html": [
       "<div>\n",
       "<style scoped>\n",
       "    .dataframe tbody tr th:only-of-type {\n",
       "        vertical-align: middle;\n",
       "    }\n",
       "\n",
       "    .dataframe tbody tr th {\n",
       "        vertical-align: top;\n",
       "    }\n",
       "\n",
       "    .dataframe thead th {\n",
       "        text-align: right;\n",
       "    }\n",
       "</style>\n",
       "<table border=\"1\" class=\"dataframe\">\n",
       "  <thead>\n",
       "    <tr style=\"text-align: right;\">\n",
       "      <th></th>\n",
       "      <th>Total Counts</th>\n",
       "      <th>NA Counts</th>\n",
       "      <th>Proportion NA</th>\n",
       "    </tr>\n",
       "    <tr>\n",
       "      <th>Reason for Dispatch</th>\n",
       "      <th></th>\n",
       "      <th></th>\n",
       "      <th></th>\n",
       "    </tr>\n",
       "  </thead>\n",
       "  <tbody>\n",
       "    <tr>\n",
       "      <th>Check Welfare</th>\n",
       "      <td>29096</td>\n",
       "      <td>15484</td>\n",
       "      <td>53.216937</td>\n",
       "    </tr>\n",
       "    <tr>\n",
       "      <th>Check Welfare</th>\n",
       "      <td>1</td>\n",
       "      <td>1</td>\n",
       "      <td>100.000000</td>\n",
       "    </tr>\n",
       "    <tr>\n",
       "      <th>Counseling</th>\n",
       "      <td>860</td>\n",
       "      <td>200</td>\n",
       "      <td>23.255814</td>\n",
       "    </tr>\n",
       "    <tr>\n",
       "      <th>EMS Assist</th>\n",
       "      <td>311</td>\n",
       "      <td>79</td>\n",
       "      <td>25.401929</td>\n",
       "    </tr>\n",
       "    <tr>\n",
       "      <th>Fire Assist</th>\n",
       "      <td>336</td>\n",
       "      <td>133</td>\n",
       "      <td>39.583333</td>\n",
       "    </tr>\n",
       "    <tr>\n",
       "      <th>Information Not Available</th>\n",
       "      <td>4006</td>\n",
       "      <td>2373</td>\n",
       "      <td>59.236146</td>\n",
       "    </tr>\n",
       "    <tr>\n",
       "      <th>Police Assist</th>\n",
       "      <td>5356</td>\n",
       "      <td>1250</td>\n",
       "      <td>23.338312</td>\n",
       "    </tr>\n",
       "    <tr>\n",
       "      <th>Public Assist</th>\n",
       "      <td>22786</td>\n",
       "      <td>8628</td>\n",
       "      <td>37.865356</td>\n",
       "    </tr>\n",
       "    <tr>\n",
       "      <th>Suicidal Subject</th>\n",
       "      <td>1922</td>\n",
       "      <td>473</td>\n",
       "      <td>24.609781</td>\n",
       "    </tr>\n",
       "    <tr>\n",
       "      <th>Transport</th>\n",
       "      <td>1797</td>\n",
       "      <td>622</td>\n",
       "      <td>34.613244</td>\n",
       "    </tr>\n",
       "  </tbody>\n",
       "</table>\n",
       "</div>"
      ],
      "text/plain": [
       "                           Total Counts  NA Counts  Proportion NA\n",
       "Reason for Dispatch                                              \n",
       "Check Welfare                     29096      15484      53.216937\n",
       "Check Welfare\n",
       "                        1          1     100.000000\n",
       "Counseling                          860        200      23.255814\n",
       "EMS Assist                          311         79      25.401929\n",
       "Fire Assist                         336        133      39.583333\n",
       "Information Not Available          4006       2373      59.236146\n",
       "Police Assist                      5356       1250      23.338312\n",
       "Public Assist                     22786       8628      37.865356\n",
       "Suicidal Subject                   1922        473      24.609781\n",
       "Transport                          1797        622      34.613244"
      ]
     },
     "execution_count": 133,
     "metadata": {},
     "output_type": "execute_result"
    }
   ],
   "source": [
    "# Calculate total counts per 'Reason for Dispatch'\n",
    "total_counts = cahoots_age_rfd_nas.groupby('Reason for Dispatch').size()\n",
    "\n",
    "# Filter for 'NA' values in the 'Age' column\n",
    "na_ages = cahoots_age_rfd_nas[cahoots_age_rfd_nas['Age'] == \"NA\"]\n",
    "\n",
    "# Calculate 'NA' counts per 'Reason for Dispatch'\n",
    "na_counts = na_ages.groupby('Reason for Dispatch').size()\n",
    "\n",
    "# Create a DataFrame with both total and NA counts\n",
    "summary_df = pd.DataFrame({\n",
    "    'Total Counts': total_counts,\n",
    "    'NA Counts': na_counts\n",
    "}).fillna(0)  # Ensure that NA counts are filled with 0 where there are no NA values\n",
    "\n",
    "# Calculate the proportion of NAs\n",
    "summary_df['Proportion NA'] = (summary_df['NA Counts'] / summary_df['Total Counts']) * 100\n",
    "\n",
    "summary_df"
   ]
  },
  {
   "cell_type": "code",
   "execution_count": 135,
   "id": "a5e561da-8ad4-4a77-9ed5-b823e00bd584",
   "metadata": {
    "tags": []
   },
   "outputs": [
    {
     "data": {
      "text/plain": [
       "(array([0, 1, 2, 3, 4, 5, 6, 7, 8, 9]),\n",
       " [Text(0, 0, 'Check Welfare'),\n",
       "  Text(1, 0, 'Check Welfare\\x0b'),\n",
       "  Text(2, 0, 'Counseling'),\n",
       "  Text(3, 0, 'EMS Assist'),\n",
       "  Text(4, 0, 'Fire Assist'),\n",
       "  Text(5, 0, 'Information Not Available'),\n",
       "  Text(6, 0, 'Police Assist'),\n",
       "  Text(7, 0, 'Public Assist'),\n",
       "  Text(8, 0, 'Suicidal Subject'),\n",
       "  Text(9, 0, 'Transport')])"
      ]
     },
     "execution_count": 135,
     "metadata": {},
     "output_type": "execute_result"
    },
    {
     "name": "stderr",
     "output_type": "stream",
     "text": [
      "/Users/miahanson/anaconda3/lib/python3.11/site-packages/IPython/core/events.py:82: UserWarning: Glyph 11 (\u000b",
      ") missing from current font.\n",
      "  func(*args, **kwargs)\n",
      "/Users/miahanson/anaconda3/lib/python3.11/site-packages/IPython/core/pylabtools.py:152: UserWarning: Glyph 11 (\u000b",
      ") missing from current font.\n",
      "  fig.canvas.print_figure(bytes_io, **kw)\n"
     ]
    },
    {
     "data": {
      "image/png": "[encoded data removed]",
      "text/plain": [
       "<Figure size 640x480 with 1 Axes>"
      ]
     },
     "metadata": {},
     "output_type": "display_data"
    }
   ],
   "source": [
    "summary_df['Proportion NA'].plot(kind='bar', color='blue')\n",
    "plt.title('Proportion of NA Age Data by Reason for Dispatch')\n",
    "plt.xlabel('Reason for Dispatch')\n",
    "plt.ylabel('Proportion of NA (%)')\n",
    "plt.xticks(rotation=45)"
   ]
  },
  {
   "cell_type": "code",
   "execution_count": 137,
   "id": "9a27afc1-6c4e-4e2e-bbcb-e3190beb57fa",
   "metadata": {
    "tags": []
   },
   "outputs": [
    {
     "name": "stderr",
     "output_type": "stream",
     "text": [
      "/Users/miahanson/anaconda3/lib/python3.11/site-packages/IPython/core/pylabtools.py:152: UserWarning: Glyph 11 (\u000b",
      ") missing from current font.\n",
      "  fig.canvas.print_figure(bytes_io, **kw)\n"
     ]
    },
    {
     "data": {
      "image/png": "[encoded data removed]",
      "text/plain": [
       "<Figure size 640x480 with 1 Axes>"
      ]
     },
     "metadata": {},
     "output_type": "display_data"
    }
   ],
   "source": [
    "na_counts_df.plot(kind='bar', x='Reason for Dispatch', y='NA Count', color='blue')\n",
    "plt.title('NA Counts by Reason for Dispatch')\n",
    "plt.xlabel('Reason for Dispatch')\n",
    "plt.ylabel('Count of NA')\n",
    "plt.xticks(rotation=45)\n",
    "plt.show()"
   ]
  },
  {
   "cell_type": "code",
   "execution_count": 8,
   "id": "786f71d9-4126-4fe8-b224-3d9262ff7ef7",
   "metadata": {
    "tags": []
   },
   "outputs": [],
   "source": [
    "\n",
    "# CAHOOTS_age_all = CAHOOTS_call_data.drop([\"Date\", \"TimeOfCall\", \"Gender\", \"Race\", \"Language\", \"City\", \"Reason for Dispatch\"], axis=1)\n",
    "# CAHOOTS_age_all"
   ]
  },
  {
   "cell_type": "code",
   "execution_count": 9,
   "id": "de5d5e83-b833-418c-b3c1-daebe48ce436",
   "metadata": {
    "tags": []
   },
   "outputs": [],
   "source": [
    "# # Fill NaN values with \"NA\"\n",
    "# CAHOOTS_age_all[\"Age\"].fillna(\"NA\", inplace=True)\n",
    "\n",
    "# # Replace \"Not Given\" with \"NA\"\n",
    "# CAHOOTS_age_all[\"Age\"].replace(\"Not Given\", \"NA\", inplace=True)\n",
    "\n",
    "# # Replace \"Unavailable\" with \"NA\"\n",
    "# CAHOOTS_age_all[\"Age\"].replace(\"Unavailable\", \"NA\", inplace=True)\n",
    "\n",
    "# # Plot histogram\n",
    "# plt.hist(CAHOOTS_age_all[\"Age\"],bins=15, edgecolor='black', align='left')\n",
    "# plt.xlabel(\"Age\")\n",
    "# plt.ylabel(\"Frequency\")\n",
    "# plt.title(\"Histogram of Ages (including NA)\")\n",
    "# plt.xticks(rotation=90, ha='right')\n",
    "# plt.show()\n",
    "\n",
    "\n"
   ]
  },
  {
   "cell_type": "markdown",
   "id": "28c4fa29-6944-47e8-ab26-33571393d13a",
   "metadata": {},
   "source": [
    "# Just Age Dataframe"
   ]
  },
  {
   "cell_type": "code",
   "execution_count": 11,
   "id": "47e5c0ea-6ceb-45aa-bff2-086f6c92b725",
   "metadata": {
    "tags": []
   },
   "outputs": [
    {
     "data": {
      "text/html": [
       "<div>\n",
       "<style scoped>\n",
       "    .dataframe tbody tr th:only-of-type {\n",
       "        vertical-align: middle;\n",
       "    }\n",
       "\n",
       "    .dataframe tbody tr th {\n",
       "        vertical-align: top;\n",
       "    }\n",
       "\n",
       "    .dataframe thead th {\n",
       "        text-align: right;\n",
       "    }\n",
       "</style>\n",
       "<table border=\"1\" class=\"dataframe\">\n",
       "  <thead>\n",
       "    <tr style=\"text-align: right;\">\n",
       "      <th></th>\n",
       "      <th>Age</th>\n",
       "    </tr>\n",
       "  </thead>\n",
       "  <tbody>\n",
       "    <tr>\n",
       "      <th>0</th>\n",
       "      <td>46</td>\n",
       "    </tr>\n",
       "    <tr>\n",
       "      <th>1</th>\n",
       "      <td>55</td>\n",
       "    </tr>\n",
       "    <tr>\n",
       "      <th>3</th>\n",
       "      <td>81</td>\n",
       "    </tr>\n",
       "    <tr>\n",
       "      <th>4</th>\n",
       "      <td>51</td>\n",
       "    </tr>\n",
       "    <tr>\n",
       "      <th>5</th>\n",
       "      <td>47</td>\n",
       "    </tr>\n",
       "    <tr>\n",
       "      <th>...</th>\n",
       "      <td>...</td>\n",
       "    </tr>\n",
       "    <tr>\n",
       "      <th>66457</th>\n",
       "      <td>74</td>\n",
       "    </tr>\n",
       "    <tr>\n",
       "      <th>66459</th>\n",
       "      <td>47</td>\n",
       "    </tr>\n",
       "    <tr>\n",
       "      <th>66460</th>\n",
       "      <td>47</td>\n",
       "    </tr>\n",
       "    <tr>\n",
       "      <th>66461</th>\n",
       "      <td>39</td>\n",
       "    </tr>\n",
       "    <tr>\n",
       "      <th>66468</th>\n",
       "      <td>47</td>\n",
       "    </tr>\n",
       "  </tbody>\n",
       "</table>\n",
       "<p>37228 rows × 1 columns</p>\n",
       "</div>"
      ],
      "text/plain": [
       "      Age\n",
       "0      46\n",
       "1      55\n",
       "3      81\n",
       "4      51\n",
       "5      47\n",
       "...    ..\n",
       "66457  74\n",
       "66459  47\n",
       "66460  47\n",
       "66461  39\n",
       "66468  47\n",
       "\n",
       "[37228 rows x 1 columns]"
      ]
     },
     "execution_count": 11,
     "metadata": {},
     "output_type": "execute_result"
    }
   ],
   "source": [
    "# dropping the columns I don't need \n",
    "    # first dataframe I'm making is just age \n",
    "CAHOOTS_age_all = CAHOOTS_call_data.drop([\"Date\", \"TimeOfCall\", \"Gender\", \"Race\", \"Language\", \"City\", \"Reason for Dispatch\"], axis=1)\n",
    "\n",
    "# now dropping the values of \"Not Given\" \n",
    "    # https://saturncloud.io/blog/how-to-remove-rows-with-specific-values-in-pandas-dataframe/#:~:text=Method%202%3A%20Using%20the%20drop,value%20we%20want%20to%20remove.\n",
    "    # # drop all rows that contain 'Coca Cola'\n",
    "    # df = df.drop(df[df['product_name'] == 'Coca Cola'].index)\n",
    "\n",
    "# commenting out this line to see what happens when keeping the unknown values\n",
    "CAHOOTS_age_all_cleaned = CAHOOTS_age_all.drop(CAHOOTS_age_all[CAHOOTS_age_all[\"Age\"].isin([\"Not Given\", \"Unavailable\", \"nan\"])].index)\n",
    "\n",
    "# checking to make sure the rest of the values are just numbers\n",
    "CAHOOTS_age_all_cleaned[\"Age\"].unique()\n",
    "\n",
    "# commenting out this line to see what happens when keeping the unknown values\n",
    "# also need to get rid of instances of normal python recognized nan values\n",
    "CAHOOTS_age_all_cleaned = CAHOOTS_age_all_cleaned.dropna()\n",
    "\n",
    "# checking again to make sure the rest of the values are just numbers\n",
    "CAHOOTS_age_all_cleaned[\"Age\"].unique()\n",
    "\n",
    "# finalized cleaned age only dataset including values from 2021, 2022, and 2023\n",
    "CAHOOTS_age_all_cleaned"
   ]
  },
  {
   "cell_type": "code",
   "execution_count": 12,
   "id": "f3ed78d9-fcfa-48d9-8844-0cafc0656653",
   "metadata": {
    "tags": []
   },
   "outputs": [],
   "source": [
    "CAHOOTS_age_all_cleaned['Age'] = CAHOOTS_age_all_cleaned['Age'].astype(int)\n"
   ]
  },
  {
   "cell_type": "code",
   "execution_count": 13,
   "id": "6117c5b6-1ae1-4e1d-8f1c-265b6414d5f2",
   "metadata": {
    "tags": []
   },
   "outputs": [
    {
     "data": {
      "text/plain": [
       "Text(0, 0.5, 'Frequency')"
      ]
     },
     "execution_count": 13,
     "metadata": {},
     "output_type": "execute_result"
    },
    {
     "data": {
      "image/png": "[encoded data removed]",
      "text/plain": [
       "<Figure size 640x480 with 1 Axes>"
      ]
     },
     "metadata": {},
     "output_type": "display_data"
    }
   ],
   "source": [
    "ages = CAHOOTS_age_all_cleaned[\"Age\"]\n",
    "\n",
    "plt.hist(ages, bins=15 ) \n",
    "plt.title('Age Distributions Over CAHOOTS Calls')\n",
    "plt.xlabel('Age')\n",
    "plt.ylabel('Frequency') "
   ]
  },
  {
   "cell_type": "markdown",
   "id": "bf3783bc-6b45-4572-82f5-14ed0076ff6d",
   "metadata": {},
   "source": [
    "# Age and Reason For Dispatch Dataframe"
   ]
  },
  {
   "cell_type": "code",
   "execution_count": 15,
   "id": "65bbd632-0287-4e3c-b44e-8c987469a2b4",
   "metadata": {
    "tags": []
   },
   "outputs": [],
   "source": [
    "# now making a dataset for age over the call classes\n",
    "\n",
    "CAHOOTS_dispatch_and_age = CAHOOTS_call_data.drop([\"Date\", \"TimeOfCall\", \"Gender\", \"Race\", \"Language\", \"City\"], axis=1)"
   ]
  },
  {
   "cell_type": "code",
   "execution_count": 16,
   "id": "6c6ad725-fa24-4058-a524-fb3523038370",
   "metadata": {
    "tags": []
   },
   "outputs": [
    {
     "data": {
      "text/html": [
       "<div>\n",
       "<style scoped>\n",
       "    .dataframe tbody tr th:only-of-type {\n",
       "        vertical-align: middle;\n",
       "    }\n",
       "\n",
       "    .dataframe tbody tr th {\n",
       "        vertical-align: top;\n",
       "    }\n",
       "\n",
       "    .dataframe thead th {\n",
       "        text-align: right;\n",
       "    }\n",
       "</style>\n",
       "<table border=\"1\" class=\"dataframe\">\n",
       "  <thead>\n",
       "    <tr style=\"text-align: right;\">\n",
       "      <th></th>\n",
       "      <th>Age</th>\n",
       "      <th>Reason for Dispatch</th>\n",
       "    </tr>\n",
       "  </thead>\n",
       "  <tbody>\n",
       "    <tr>\n",
       "      <th>0</th>\n",
       "      <td>46</td>\n",
       "      <td>Public Assist</td>\n",
       "    </tr>\n",
       "    <tr>\n",
       "      <th>1</th>\n",
       "      <td>55</td>\n",
       "      <td>Public Assist</td>\n",
       "    </tr>\n",
       "    <tr>\n",
       "      <th>2</th>\n",
       "      <td>Unavailable</td>\n",
       "      <td>Public Assist</td>\n",
       "    </tr>\n",
       "    <tr>\n",
       "      <th>3</th>\n",
       "      <td>81</td>\n",
       "      <td>Transport</td>\n",
       "    </tr>\n",
       "    <tr>\n",
       "      <th>4</th>\n",
       "      <td>51</td>\n",
       "      <td>Check Welfare</td>\n",
       "    </tr>\n",
       "    <tr>\n",
       "      <th>...</th>\n",
       "      <td>...</td>\n",
       "      <td>...</td>\n",
       "    </tr>\n",
       "    <tr>\n",
       "      <th>67516</th>\n",
       "      <td>NaN</td>\n",
       "      <td>NaN</td>\n",
       "    </tr>\n",
       "    <tr>\n",
       "      <th>67517</th>\n",
       "      <td>NaN</td>\n",
       "      <td>NaN</td>\n",
       "    </tr>\n",
       "    <tr>\n",
       "      <th>67518</th>\n",
       "      <td>NaN</td>\n",
       "      <td>NaN</td>\n",
       "    </tr>\n",
       "    <tr>\n",
       "      <th>67519</th>\n",
       "      <td>NaN</td>\n",
       "      <td>NaN</td>\n",
       "    </tr>\n",
       "    <tr>\n",
       "      <th>67520</th>\n",
       "      <td>NaN</td>\n",
       "      <td>NaN</td>\n",
       "    </tr>\n",
       "  </tbody>\n",
       "</table>\n",
       "<p>67521 rows × 2 columns</p>\n",
       "</div>"
      ],
      "text/plain": [
       "               Age Reason for Dispatch\n",
       "0               46       Public Assist\n",
       "1               55       Public Assist\n",
       "2      Unavailable       Public Assist\n",
       "3               81           Transport\n",
       "4               51       Check Welfare\n",
       "...            ...                 ...\n",
       "67516          NaN                 NaN\n",
       "67517          NaN                 NaN\n",
       "67518          NaN                 NaN\n",
       "67519          NaN                 NaN\n",
       "67520          NaN                 NaN\n",
       "\n",
       "[67521 rows x 2 columns]"
      ]
     },
     "execution_count": 16,
     "metadata": {},
     "output_type": "execute_result"
    }
   ],
   "source": [
    "CAHOOTS_dispatch_and_age"
   ]
  },
  {
   "cell_type": "code",
   "execution_count": 17,
   "id": "ef3fb4f4-1ba7-4f31-9bb5-e466d39e23b5",
   "metadata": {
    "tags": []
   },
   "outputs": [
    {
     "name": "stderr",
     "output_type": "stream",
     "text": [
      "/Users/miahanson/anaconda3/lib/python3.11/site-packages/seaborn/_oldcore.py:1119: FutureWarning: use_inf_as_na option is deprecated and will be removed in a future version. Convert inf values to NaN before operating instead.\n",
      "  with pd.option_context('mode.use_inf_as_na', True):\n"
     ]
    },
    {
     "data": {
      "text/plain": [
       "<Axes: xlabel='Reason for Dispatch', ylabel='Count'>"
      ]
     },
     "execution_count": 17,
     "metadata": {},
     "output_type": "execute_result"
    },
    {
     "name": "stderr",
     "output_type": "stream",
     "text": [
      "/Users/miahanson/anaconda3/lib/python3.11/site-packages/IPython/core/events.py:82: UserWarning: Glyph 11 (\u000b",
      ") missing from current font.\n",
      "  func(*args, **kwargs)\n",
      "/Users/miahanson/anaconda3/lib/python3.11/site-packages/IPython/core/pylabtools.py:152: UserWarning: Glyph 11 (\u000b",
      ") missing from current font.\n",
      "  fig.canvas.print_figure(bytes_io, **kw)\n"
     ]
    },
    {
     "data": {
      "image/png": "[encoded data removed]",
      "text/plain": [
       "<Figure size 640x480 with 1 Axes>"
      ]
     },
     "metadata": {},
     "output_type": "display_data"
    }
   ],
   "source": [
    "sns.histplot(x=CAHOOTS_dispatch_and_age[\"Reason for Dispatch\"])"
   ]
  },
  {
   "cell_type": "code",
   "execution_count": 18,
   "id": "604b844d-cb8f-4ba5-ae41-fe2bfa38ccf9",
   "metadata": {
    "tags": []
   },
   "outputs": [
    {
     "data": {
      "text/html": [
       "<div>\n",
       "<style scoped>\n",
       "    .dataframe tbody tr th:only-of-type {\n",
       "        vertical-align: middle;\n",
       "    }\n",
       "\n",
       "    .dataframe tbody tr th {\n",
       "        vertical-align: top;\n",
       "    }\n",
       "\n",
       "    .dataframe thead th {\n",
       "        text-align: right;\n",
       "    }\n",
       "</style>\n",
       "<table border=\"1\" class=\"dataframe\">\n",
       "  <thead>\n",
       "    <tr style=\"text-align: right;\">\n",
       "      <th></th>\n",
       "      <th>Age</th>\n",
       "      <th>Reason for Dispatch</th>\n",
       "    </tr>\n",
       "  </thead>\n",
       "  <tbody>\n",
       "    <tr>\n",
       "      <th>0</th>\n",
       "      <td>46</td>\n",
       "      <td>Public Assist</td>\n",
       "    </tr>\n",
       "    <tr>\n",
       "      <th>1</th>\n",
       "      <td>55</td>\n",
       "      <td>Public Assist</td>\n",
       "    </tr>\n",
       "    <tr>\n",
       "      <th>3</th>\n",
       "      <td>81</td>\n",
       "      <td>Transport</td>\n",
       "    </tr>\n",
       "    <tr>\n",
       "      <th>4</th>\n",
       "      <td>51</td>\n",
       "      <td>Check Welfare</td>\n",
       "    </tr>\n",
       "    <tr>\n",
       "      <th>5</th>\n",
       "      <td>47</td>\n",
       "      <td>Check Welfare</td>\n",
       "    </tr>\n",
       "    <tr>\n",
       "      <th>...</th>\n",
       "      <td>...</td>\n",
       "      <td>...</td>\n",
       "    </tr>\n",
       "    <tr>\n",
       "      <th>66457</th>\n",
       "      <td>74</td>\n",
       "      <td>Public Assist</td>\n",
       "    </tr>\n",
       "    <tr>\n",
       "      <th>66459</th>\n",
       "      <td>47</td>\n",
       "      <td>Check Welfare</td>\n",
       "    </tr>\n",
       "    <tr>\n",
       "      <th>66460</th>\n",
       "      <td>47</td>\n",
       "      <td>Suicidal Subject</td>\n",
       "    </tr>\n",
       "    <tr>\n",
       "      <th>66461</th>\n",
       "      <td>39</td>\n",
       "      <td>Check Welfare</td>\n",
       "    </tr>\n",
       "    <tr>\n",
       "      <th>66468</th>\n",
       "      <td>47</td>\n",
       "      <td>Public Assist</td>\n",
       "    </tr>\n",
       "  </tbody>\n",
       "</table>\n",
       "<p>37228 rows × 2 columns</p>\n",
       "</div>"
      ],
      "text/plain": [
       "      Age Reason for Dispatch\n",
       "0      46       Public Assist\n",
       "1      55       Public Assist\n",
       "3      81           Transport\n",
       "4      51       Check Welfare\n",
       "5      47       Check Welfare\n",
       "...    ..                 ...\n",
       "66457  74       Public Assist\n",
       "66459  47       Check Welfare\n",
       "66460  47    Suicidal Subject\n",
       "66461  39       Check Welfare\n",
       "66468  47       Public Assist\n",
       "\n",
       "[37228 rows x 2 columns]"
      ]
     },
     "execution_count": 18,
     "metadata": {},
     "output_type": "execute_result"
    }
   ],
   "source": [
    "# running data through the same age cleaning as above\n",
    "\n",
    "# now dropping the values of \"Not Given\" \n",
    "    # https://saturncloud.io/blog/how-to-remove-rows-with-specific-values-in-pandas-dataframe/#:~:text=Method%202%3A%20Using%20the%20drop,value%20we%20want%20to%20remove.\n",
    "    # # drop all rows that contain 'Coca Cola'\n",
    "    # df = df.drop(df[df['product_name'] == 'Coca Cola'].index)\n",
    "CAHOOTS_dispatch_and_age_cleaned = CAHOOTS_dispatch_and_age.drop(CAHOOTS_dispatch_and_age[CAHOOTS_dispatch_and_age[\"Age\"].isin([\"Not Given\", \"Unavailable\", \"nan\"])].index)\n",
    "\n",
    "# checking to make sure the rest of the values are just numbers\n",
    "CAHOOTS_dispatch_and_age_cleaned[\"Age\"].unique()\n",
    "\n",
    "# also need to get rid of instances of normal python recognized nan values\n",
    "CAHOOTS_dispatch_and_age_cleaned = CAHOOTS_dispatch_and_age_cleaned.dropna()\n",
    "\n",
    "# checking again to make sure the rest of the values are just numbers\n",
    "    #CAHOOTS_dispatch_and_age_cleaned[\"Age\"].unique()\n",
    "    \n",
    "CAHOOTS_dispatch_and_age_cleaned"
   ]
  },
  {
   "cell_type": "code",
   "execution_count": 19,
   "id": "dff422f6-0e57-4d50-9af8-0c6e48e17f25",
   "metadata": {
    "tags": []
   },
   "outputs": [
    {
     "data": {
      "text/html": [
       "<div>\n",
       "<style scoped>\n",
       "    .dataframe tbody tr th:only-of-type {\n",
       "        vertical-align: middle;\n",
       "    }\n",
       "\n",
       "    .dataframe tbody tr th {\n",
       "        vertical-align: top;\n",
       "    }\n",
       "\n",
       "    .dataframe thead th {\n",
       "        text-align: right;\n",
       "    }\n",
       "</style>\n",
       "<table border=\"1\" class=\"dataframe\">\n",
       "  <thead>\n",
       "    <tr style=\"text-align: right;\">\n",
       "      <th></th>\n",
       "      <th>Age</th>\n",
       "      <th>Reason for Dispatch</th>\n",
       "    </tr>\n",
       "  </thead>\n",
       "  <tbody>\n",
       "    <tr>\n",
       "      <th>0</th>\n",
       "      <td>46</td>\n",
       "      <td>Public Assist</td>\n",
       "    </tr>\n",
       "    <tr>\n",
       "      <th>1</th>\n",
       "      <td>55</td>\n",
       "      <td>Public Assist</td>\n",
       "    </tr>\n",
       "    <tr>\n",
       "      <th>3</th>\n",
       "      <td>81</td>\n",
       "      <td>Transport</td>\n",
       "    </tr>\n",
       "    <tr>\n",
       "      <th>4</th>\n",
       "      <td>51</td>\n",
       "      <td>Check Welfare</td>\n",
       "    </tr>\n",
       "    <tr>\n",
       "      <th>5</th>\n",
       "      <td>47</td>\n",
       "      <td>Check Welfare</td>\n",
       "    </tr>\n",
       "    <tr>\n",
       "      <th>...</th>\n",
       "      <td>...</td>\n",
       "      <td>...</td>\n",
       "    </tr>\n",
       "    <tr>\n",
       "      <th>66457</th>\n",
       "      <td>74</td>\n",
       "      <td>Public Assist</td>\n",
       "    </tr>\n",
       "    <tr>\n",
       "      <th>66459</th>\n",
       "      <td>47</td>\n",
       "      <td>Check Welfare</td>\n",
       "    </tr>\n",
       "    <tr>\n",
       "      <th>66460</th>\n",
       "      <td>47</td>\n",
       "      <td>Suicidal Subject</td>\n",
       "    </tr>\n",
       "    <tr>\n",
       "      <th>66461</th>\n",
       "      <td>39</td>\n",
       "      <td>Check Welfare</td>\n",
       "    </tr>\n",
       "    <tr>\n",
       "      <th>66468</th>\n",
       "      <td>47</td>\n",
       "      <td>Public Assist</td>\n",
       "    </tr>\n",
       "  </tbody>\n",
       "</table>\n",
       "<p>35595 rows × 2 columns</p>\n",
       "</div>"
      ],
      "text/plain": [
       "      Age Reason for Dispatch\n",
       "0      46       Public Assist\n",
       "1      55       Public Assist\n",
       "3      81           Transport\n",
       "4      51       Check Welfare\n",
       "5      47       Check Welfare\n",
       "...    ..                 ...\n",
       "66457  74       Public Assist\n",
       "66459  47       Check Welfare\n",
       "66460  47    Suicidal Subject\n",
       "66461  39       Check Welfare\n",
       "66468  47       Public Assist\n",
       "\n",
       "[35595 rows x 2 columns]"
      ]
     },
     "execution_count": 19,
     "metadata": {},
     "output_type": "execute_result"
    }
   ],
   "source": [
    "# now cleaning the dispatch portion of data\n",
    "CAHOOTS_dispatch_cleaned_and_age_cleaned = CAHOOTS_dispatch_and_age_cleaned.drop(\n",
    "    CAHOOTS_dispatch_and_age_cleaned[CAHOOTS_dispatch_and_age_cleaned[\"Reason for Dispatch\"] == \"Information Not Available\"].index\n",
    ")\n",
    "\n",
    "# making sure the dispatch portion doesn't have any unexpected values\n",
    "CAHOOTS_dispatch_cleaned_and_age_cleaned[\"Reason for Dispatch\"].unique()\n",
    "\n",
    "# finalized cleaned cahoots reason for dispatch and age dataframe\n",
    "CAHOOTS_dispatch_cleaned_and_age_cleaned"
   ]
  },
  {
   "cell_type": "code",
   "execution_count": 20,
   "id": "53aaf15d-5a49-48f0-b558-c71a9ed6f80a",
   "metadata": {
    "tags": []
   },
   "outputs": [
    {
     "data": {
      "image/png": "[encoded data removed]",
      "text/plain": [
       "<Figure size 640x480 with 1 Axes>"
      ]
     },
     "metadata": {},
     "output_type": "display_data"
    }
   ],
   "source": [
    "import seaborn as sns\n",
    "import matplotlib.pyplot as plt\n",
    "\n",
    "# Convert 'Age' column to numeric if it's not already\n",
    "CAHOOTS_dispatch_cleaned_and_age_cleaned['Age'] = pd.to_numeric(CAHOOTS_dispatch_cleaned_and_age_cleaned['Age'])\n",
    "\n",
    "\n",
    "sns.violinplot(x='Reason for Dispatch', y='Age', data=CAHOOTS_dispatch_cleaned_and_age_cleaned, inner='quartile')\n",
    "plt.title('Age Distribution by Reason for Dispatch')\n",
    "plt.xlabel('Reason for Dispatch')\n",
    "plt.ylabel('Age')\n",
    "plt.xticks(rotation=45)\n",
    "plt.show()\n",
    "\n"
   ]
  },
  {
   "cell_type": "code",
   "execution_count": 21,
   "id": "cdf11da6-70fa-4404-872e-716eb65ce450",
   "metadata": {
    "tags": []
   },
   "outputs": [
    {
     "data": {
      "image/png": "[encoded data removed]",
      "text/plain": [
       "<Figure size 1200x800 with 1 Axes>"
      ]
     },
     "metadata": {},
     "output_type": "display_data"
    }
   ],
   "source": [
    "import seaborn as sns\n",
    "import matplotlib.pyplot as plt\n",
    "\n",
    "# Convert 'Age' column to numeric if it's not already\n",
    "CAHOOTS_dispatch_cleaned_and_age_cleaned['Age'] = pd.to_numeric(CAHOOTS_dispatch_cleaned_and_age_cleaned['Age'])\n",
    "\n",
    "plt.figure(figsize=(12, 8))\n",
    "sns.boxplot(x='Reason for Dispatch', y='Age', data=CAHOOTS_dispatch_cleaned_and_age_cleaned)\n",
    "plt.title('Age Distribution by Reason for Dispatch')\n",
    "plt.xlabel('Reason for Dispatch')\n",
    "plt.ylabel('Age')\n",
    "plt.xticks(rotation=45)\n",
    "plt.show()\n"
   ]
  },
  {
   "cell_type": "code",
   "execution_count": 47,
   "id": "c028c91e-b763-4a2f-b2b9-1967438cc11a",
   "metadata": {
    "tags": []
   },
   "outputs": [
    {
     "name": "stderr",
     "output_type": "stream",
     "text": [
      "/var/folders/48/72hxbzzj791_c7th7nv0p31h0000gn/T/ipykernel_10166/2819495388.py:19: FutureWarning: The default of observed=False is deprecated and will be changed to True in a future version of pandas. Pass observed=False to retain current behavior or observed=True to adopt the future default and silence this warning.\n",
      "  dispatch_age_counts = CAHOOTS_dispatch_cleaned_and_age_cleaned.groupby(['Reason for Dispatch', 'Age Group']).size().reset_index(name='Counts')\n"
     ]
    },
    {
     "data": {
      "image/png": "[encoded data removed]",
      "text/plain": [
       "<Figure size 1200x800 with 1 Axes>"
      ]
     },
     "metadata": {},
     "output_type": "display_data"
    }
   ],
   "source": [
    "import pandas as pd\n",
    "import seaborn as sns\n",
    "import matplotlib.pyplot as plt\n",
    "\n",
    "# Convert 'Age' column to integer type\n",
    "CAHOOTS_dispatch_cleaned_and_age_cleaned['Age'] = pd.to_numeric(CAHOOTS_dispatch_cleaned_and_age_cleaned['Age'], errors='coerce')  # 'coerce' will convert non-numeric values to NaN\n",
    "\n",
    "# age groups\n",
    "age_bins = [0, 10, 20, 30, 40, 50, 60, 70, 80, 90, 100]\n",
    "age_labels = ['Under 10 years', '10 to 20 years',\n",
    "                  '21 to 30 years', '31 to 40 years', \n",
    "                   '41 to 50 years', '51 to 60 years','61 to 70 years', '71 to 80 years', '81 to 90 years', \n",
    "                   '91+']\n",
    "\n",
    "# Create a new column 'Age Group' based on the custom age groups\n",
    "CAHOOTS_dispatch_cleaned_and_age_cleaned['Age Group'] = pd.cut(CAHOOTS_dispatch_cleaned_and_age_cleaned['Age'], bins=age_bins, labels=age_labels, right=False)\n",
    "\n",
    "# Group data by 'Reason for Dispatch' and 'Age Group', and count occurrences\n",
    "dispatch_age_counts = CAHOOTS_dispatch_cleaned_and_age_cleaned.groupby(['Reason for Dispatch', 'Age Group']).size().reset_index(name='Counts')\n",
    "\n",
    "# Plot\n",
    "plt.figure(figsize=(12, 8))\n",
    "sns.barplot(data=dispatch_age_counts, x='Reason for Dispatch', y='Counts', hue='Age Group', edgecolor=\"black\", palette=\"bright\")\n",
    "plt.title('Reasons for Dispatch by Age Group')\n",
    "plt.xlabel('Reason for Dispatch')\n",
    "plt.ylabel('Count')\n",
    "plt.xticks(rotation=45)  # Rotate x-axis labels for better readability\n",
    "plt.legend(title='Age Group')\n",
    "plt.tight_layout()\n",
    "plt.show()\n",
    "\n"
   ]
  },
  {
   "cell_type": "markdown",
   "id": "07a27e56-1644-4c5a-9603-a82ff11200b4",
   "metadata": {},
   "source": [
    "# Age and City Dataframe"
   ]
  },
  {
   "cell_type": "code",
   "execution_count": null,
   "id": "8e6847d0-eb24-4ab2-bb9c-a82c1613b3af",
   "metadata": {
    "tags": []
   },
   "outputs": [],
   "source": [
    "# making one more dataframe to include age and city\n",
    "\n",
    "CAHOOTS_age_and_city = CAHOOTS_call_data.drop([\"Date\", \"TimeOfCall\", \"Gender\", \"Race\",\"Language\",\"Reason for Dispatch\"], axis=1)\n",
    "\n",
    "# running data through the same age cleaning as above\n",
    "\n",
    "# now dropping the values of \"Not Given\" \n",
    "    # https://saturncloud.io/blog/how-to-remove-rows-with-specific-values-in-pandas-dataframe/#:~:text=Method%202%3A%20Using%20the%20drop,value%20we%20want%20to%20remove.\n",
    "    # # drop all rows that contain 'Coca Cola'\n",
    "    # df = df.drop(df[df['product_name'] == 'Coca Cola'].index)\n",
    "CAHOOTS_age_and_city_cleaned = CAHOOTS_age_and_city.drop(CAHOOTS_age_and_city[CAHOOTS_age_and_city[\"Age\"].isin([\"Not Given\", \"Unavailable\", \"nan\"])].index)\n",
    "\n",
    "# checking to make sure the rest of the values are just numbers\n",
    "    #CAHOOTS_age_and_city_cleaned[\"Age\"].unique()\n",
    "\n",
    "# also need to get rid of instances of normal python recognized nan values\n",
    "CAHOOTS_age_and_city_cleaned = CAHOOTS_age_and_city_cleaned.dropna()\n",
    "\n",
    "# checking again to make sure the rest of the values are just numbers\n",
    "    #CAHOOTS_dispatch_and_age_cleaned[\"Age\"].unique()\n",
    "    \n",
    "CAHOOTS_age_and_city_cleaned\n"
   ]
  },
  {
   "cell_type": "code",
   "execution_count": null,
   "id": "c29b5115-f63d-4fab-92aa-18361be355d3",
   "metadata": {
    "tags": []
   },
   "outputs": [],
   "source": [
    "# now cleaning for city \n",
    "    # df = df.drop(df[df['product_name'] == 'Coca Cola'].index)\n",
    "CAHOOTS_age_and_city_cleaned = CAHOOTS_age_and_city_cleaned.drop(CAHOOTS_age_and_city_cleaned[CAHOOTS_age_and_city_cleaned[\"City\"] == 'Informatio not recorded'].index)\n",
    "\n",
    "CAHOOTS_age_and_city_cleaned"
   ]
  },
  {
   "cell_type": "code",
   "execution_count": null,
   "id": "3a9122b4-02cc-4a43-9609-4eea69a93156",
   "metadata": {},
   "outputs": [],
   "source": [
    "CAHOOTS_age_and_city_cleaned['Age'] = pd.to_numeric(CAHOOTS_age_and_city_cleaned['Age'])\n",
    "\n",
    "\n",
    "sns.violinplot(x='City', y='Age', data=CAHOOTS_age_and_city_cleaned, inner='quartile')\n",
    "plt.title('Age Distribution by Reason for Dispatch')\n",
    "plt.xlabel('Reason for Dispatch')\n",
    "plt.ylabel('Age')\n",
    "plt.xticks(rotation=45)\n",
    "plt.show()"
   ]
  },
  {
   "cell_type": "code",
   "execution_count": null,
   "id": "af580ee3-c016-4bc2-9166-b88085ef0aa1",
   "metadata": {
    "tags": []
   },
   "outputs": [],
   "source": [
    "# Assuming you already have the data loaded into a DataFrame df\n",
    "\n",
    "# Group the data by the 'City' column\n",
    "grouped = CAHOOTS_age_and_city_cleaned.groupby('City')\n",
    "\n",
    "# Get the DataFrame for Eugene\n",
    "eugene_df = grouped.get_group('Eugene')\n",
    "\n",
    "# Get the DataFrame for Springfield\n",
    "springfield_df = grouped.get_group('Springfield')"
   ]
  },
  {
   "cell_type": "code",
   "execution_count": null,
   "id": "d36cb2de-a1e4-44bc-b105-2bbf6f39b171",
   "metadata": {
    "tags": []
   },
   "outputs": [],
   "source": [
    "eugene_df"
   ]
  },
  {
   "cell_type": "code",
   "execution_count": null,
   "id": "83fbf705-9d8f-4fb0-a278-a840042d1548",
   "metadata": {
    "tags": []
   },
   "outputs": [],
   "source": [
    "springfield_df"
   ]
  },
  {
   "cell_type": "markdown",
   "id": "4e4d6533-3650-4b07-85a3-348253f228c8",
   "metadata": {},
   "source": [
    "# Changing Eugene CAHOOTS data into same format as ACS data"
   ]
  },
  {
   "cell_type": "code",
   "execution_count": null,
   "id": "e24b571c-a321-4df9-b3d6-5b054ac62f6e",
   "metadata": {
    "tags": []
   },
   "outputs": [],
   "source": [
    "# Getting data into same format as below\n",
    "\n",
    "# Define age group bins\n",
    "bins = [0, 5, 10, 15, 20, 25, 30, 35, 40, 45, 50, 55, 60, 65, 70, 75, 80, 85, float('inf')]\n",
    "# Define age group labels\n",
    "labels = ['Under 5 years', '5 to 9 years', '10 to 14 years', '15 to 19 years', '20 to 24 years', '25 to 29 years', \n",
    "          '30 to 34 years', '35 to 39 years', '40 to 44 years', '45 to 49 years', '50 to 54 years', '55 to 59 years', \n",
    "          '60 to 64 years', '65 to 69 years', '70 to 74 years', '75 to 79 years', '80 to 84 years', '85 years and over']\n",
    "\n",
    "# Add a new column 'Age Group' to the DataFrame based on age bins\n",
    "eugene_df['Age Group'] = pd.cut(eugene_df['Age'], bins=bins, labels=labels, right=False, include_lowest=True)\n",
    "\n",
    "# Group by 'Age Group' and count occurrences\n",
    "age_group_totals_eugene = eugene_df.groupby('Age Group').size().reset_index(name='Age Group Totals')\n",
    "\n",
    "# Reset index\n",
    "age_group_totals_eugene.reset_index(drop=True, inplace=True)\n",
    "\n",
    "age_group_totals_eugene"
   ]
  },
  {
   "cell_type": "markdown",
   "id": "d6516449-ab59-4d80-be80-254457a12b49",
   "metadata": {},
   "source": [
    "# exporting the eugene CAHOOTS data as a csv file\n"
   ]
  },
  {
   "cell_type": "code",
   "execution_count": null,
   "id": "cf74e5ee-3e51-447b-a7ed-8a65b0346bb6",
   "metadata": {
    "tags": []
   },
   "outputs": [],
   "source": [
    "# exporting the eugene CAHOOTS data as a csv file\n",
    "age_group_totals_eugene.to_csv('cahoots_age_eugene.csv', index=False)"
   ]
  },
  {
   "cell_type": "code",
   "execution_count": null,
   "id": "4d16c2ab-bda0-49b9-add7-215900c17f77",
   "metadata": {
    "tags": []
   },
   "outputs": [],
   "source": [
    "CAHOOTS_eugene_hist = plt.barh(age_group_totals_eugene[\"Age Group\"], age_group_totals_eugene[\"Age Group Totals\"])"
   ]
  },
  {
   "cell_type": "code",
   "execution_count": null,
   "id": "153ea176-9f26-4142-b6e7-8b369b45de79",
   "metadata": {
    "tags": []
   },
   "outputs": [],
   "source": [
    "CAHOOTS_eugene_pie = plt.pie(age_group_totals_eugene['Age Group Totals'], labels=age_group_totals_eugene['Age Group'], autopct='%1.1f%%', startangle=140);"
   ]
  },
  {
   "cell_type": "markdown",
   "id": "1cee3fd9-2767-478e-8665-1e797731484d",
   "metadata": {},
   "source": [
    "# Changing Springfield CAHOOTS data into same format as ACS"
   ]
  },
  {
   "cell_type": "code",
   "execution_count": null,
   "id": "a197e6d8-5aab-4c5d-ab4b-75a29e8c8d5c",
   "metadata": {
    "tags": []
   },
   "outputs": [],
   "source": [
    "# Define age group bins\n",
    "bins = [0, 5, 10, 15, 20, 25, 30, 35, 40, 45, 50, 55, 60, 65, 70, 75, 80, 85, float('inf')]\n",
    "# Define age group labels\n",
    "labels = ['Under 5 years', '5 to 9 years', '10 to 14 years', '15 to 19 years', '20 to 24 years', '25 to 29 years', \n",
    "          '30 to 34 years', '35 to 39 years', '40 to 44 years', '45 to 49 years', '50 to 54 years', '55 to 59 years', \n",
    "          '60 to 64 years', '65 to 69 years', '70 to 74 years', '75 to 79 years', '80 to 84 years', '85 years and over']\n",
    "\n",
    "# Add a new column 'Age Group' to the DataFrame based on age bins\n",
    "springfield_df['Age Group'] = pd.cut(springfield_df['Age'], bins=bins, labels=labels, right=False, include_lowest=True)\n",
    "\n",
    "# Group by 'Age Group' and count occurrences\n",
    "age_group_totals_sp = springfield_df.groupby('Age Group').size().reset_index(name='Age Group Totals')\n",
    "\n",
    "# Reset index\n",
    "age_group_totals_sp.reset_index(drop=True, inplace=True)\n",
    "\n",
    "age_group_totals_sp"
   ]
  },
  {
   "cell_type": "markdown",
   "id": "3ecf400b-602c-4b67-aa7a-49c343b6c72d",
   "metadata": {},
   "source": [
    "# exporting the springifield CAHOOTS data as a csv file\n"
   ]
  },
  {
   "cell_type": "code",
   "execution_count": null,
   "id": "1b48b675-59c6-4079-89ab-009594840e0e",
   "metadata": {
    "tags": []
   },
   "outputs": [],
   "source": [
    "# exporting the springifield CAHOOTS data as a csv file\n",
    "age_group_totals_sp.to_csv('cahoots_age_springfield.csv', index=False)"
   ]
  },
  {
   "cell_type": "code",
   "execution_count": null,
   "id": "1cfe7677-1851-430c-a04a-16000843e319",
   "metadata": {
    "tags": []
   },
   "outputs": [],
   "source": [
    "CAHOOTS_springfield_hist = plt.barh(age_group_totals_sp[\"Age Group\"], age_group_totals_sp[\"Age Group Totals\"])"
   ]
  },
  {
   "cell_type": "code",
   "execution_count": null,
   "id": "1045e566-44c6-4deb-b4dd-8a40b79c9ec9",
   "metadata": {
    "tags": []
   },
   "outputs": [],
   "source": [
    "CAHOOTS_sp_pie = plt.pie(age_group_totals_sp['Age Group Totals'], labels=age_group_totals_sp['Age Group'], autopct='%1.1f%%', startangle=140);\n",
    "\n"
   ]
  },
  {
   "cell_type": "markdown",
   "id": "5811b904-f736-434c-b806-6be843db9cf1",
   "metadata": {},
   "source": [
    "# Visualization of Age Distributions Across Cities"
   ]
  },
  {
   "cell_type": "code",
   "execution_count": null,
   "id": "6309f9f3-a617-4b95-978e-945be1b05162",
   "metadata": {
    "tags": []
   },
   "outputs": [],
   "source": [
    "import pandas as pd\n",
    "import seaborn as sns\n",
    "import matplotlib.pyplot as plt\n",
    "\n",
    "# Assuming 'dropped' is your DataFrame\n",
    "\n",
    "# Convert 'Age' column to integer type\n",
    "CAHOOTS_age_and_city_cleaned['Age'] = pd.to_numeric(CAHOOTS_age_and_city_cleaned['Age'], errors='coerce')  # 'coerce' will convert non-numeric values to NaN\n",
    "\n",
    "# Define custom age groups\n",
    "age_bins = [0, 10, 20, 30, 40, 50, 60, 70, 80, 90, 100]\n",
    "age_labels = ['0-10', '11-20', '21-30', '31-40','41-50', '51-60', '61-70', '71-80', '81-90', '91-100']\n",
    "\n",
    "# Create a new column 'Age Group' based on the custom age groups\n",
    "CAHOOTS_age_and_city_cleaned['Age Group'] = pd.cut(CAHOOTS_age_and_city_cleaned['Age'], bins=age_bins, labels=age_labels, right=False)\n",
    "\n",
    "# Group data by 'Reason for Dispatch' and 'Age Group', and count occurrences\n",
    "dispatch_age_counts = CAHOOTS_age_and_city_cleaned.groupby(['City', 'Age Group']).size().reset_index(name='Counts')\n",
    "\n",
    "# Plot\n",
    "plt.figure(figsize=(12, 8))\n",
    "sns.barplot(data=dispatch_age_counts, x='City', y='Counts', hue='Age Group')\n",
    "plt.title('City by Age Group')\n",
    "plt.xlabel('City')\n",
    "plt.ylabel('Count')\n",
    "plt.xticks(rotation=45)  # Rotate x-axis labels for better readability\n",
    "plt.legend(title='Age Group')\n",
    "plt.tight_layout()\n",
    "plt.show()\n"
   ]
  },
  {
   "cell_type": "markdown",
   "id": "3c4441e7-cdfe-4006-866e-1c69ba336e65",
   "metadata": {},
   "source": [
    "# Importing ACS data"
   ]
  },
  {
   "cell_type": "code",
   "execution_count": null,
   "id": "a284c382-d811-46ea-bf98-1511665c5e0e",
   "metadata": {
    "tags": []
   },
   "outputs": [],
   "source": [
    "eugene_acs = pd.read_csv(\"data/ACS_eugene_5yr.csv\")\n",
    "eugene_acs.head()"
   ]
  },
  {
   "cell_type": "code",
   "execution_count": null,
   "id": "6c4ce1b7-1eb7-41fc-a652-96d1af6c1ee9",
   "metadata": {
    "tags": []
   },
   "outputs": [],
   "source": [
    "springfield_acs = pd.read_csv(\"springfield_age_and_sex_data_census.csv\")\n",
    "springfield_acs.head()"
   ]
  },
  {
   "cell_type": "markdown",
   "id": "95e9994b-e88f-4765-b7a6-ef72799f93c3",
   "metadata": {},
   "source": [
    "# Cleaning Eugene ACS Data"
   ]
  },
  {
   "cell_type": "code",
   "execution_count": null,
   "id": "93117aa6-f177-482a-b27d-f77cb46debc8",
   "metadata": {
    "tags": []
   },
   "outputs": [],
   "source": [
    "eugene_acs.head()"
   ]
  },
  {
   "cell_type": "code",
   "execution_count": null,
   "id": "0954d2c5-b74f-4576-8719-825038b0658e",
   "metadata": {
    "tags": []
   },
   "outputs": [],
   "source": [
    "eugene_acs.columns"
   ]
  },
  {
   "cell_type": "code",
   "execution_count": null,
   "id": "abb7df80-dc75-4590-ad4b-6c4664587407",
   "metadata": {
    "tags": []
   },
   "outputs": [],
   "source": [
    "# keeping only columns of age breakdown \n",
    "eugene_acs = eugene_acs.loc[:, ['Label (Grouping)',\"Eugene city, Oregon!!Total!!Estimate\"]]\n"
   ]
  },
  {
   "cell_type": "code",
   "execution_count": null,
   "id": "4379075c-6ef8-43f0-a422-7545d85dddc1",
   "metadata": {
    "tags": []
   },
   "outputs": [],
   "source": [
    "eugene_acs = eugene_acs.drop(eugene_acs.index[20:42])"
   ]
  },
  {
   "cell_type": "code",
   "execution_count": null,
   "id": "b1c0018a-6f18-4d93-aea5-59085a11eb49",
   "metadata": {
    "tags": []
   },
   "outputs": [],
   "source": [
    "eugene_acs = eugene_acs.rename(columns={\"Label (Grouping)\": \"Age Groups\", \"Eugene city, Oregon!!Total!!Estimate\":\"Age Group Totals\"})\n",
    "                                        \n",
    "                                        \n",
    "                                     "
   ]
  },
  {
   "cell_type": "code",
   "execution_count": null,
   "id": "962ea64c-4482-40df-94a2-4e6f7893269d",
   "metadata": {
    "tags": []
   },
   "outputs": [],
   "source": [
    "# Original data\n",
    "data = {\n",
    "    'Age Groups': ['Total population', 'Under 5 years', '5 to 9 years', '10 to 14 years', \n",
    "                   '15 to 19 years', '20 to 24 years', '25 to 29 years', '30 to 34 years', \n",
    "                   '35 to 39 years', '40 to 44 years', '45 to 49 years', '50 to 54 years', \n",
    "                   '55 to 59 years', '60 to 64 years', '65 to 69 years', '70 to 74 years', \n",
    "                   '75 to 79 years', '80 to 84 years', '85 years and over'],\n",
    "    'Age Group Totals': [177930, 6878, 7685, 7316, 14930, 24115, \n",
    "                         16338, 11558, 9825, 10579, 8296, 9854, 7098, \n",
    "                         9356, 10318, 9423, 6729, 4343, 3289]\n",
    "}\n",
    "\n",
    "# Create DataFrame\n",
    "eugene_acs_cleaned = pd.DataFrame(data)\n",
    "\n",
    "# Display tidy data\n",
    "eugene_acs_cleaned\n",
    "\n",
    "eugene_acs_cleaned = eugene_acs_cleaned.drop(eugene_acs_cleaned.index[0])\n",
    "eugene_acs_cleaned"
   ]
  },
  {
   "cell_type": "markdown",
   "id": "57fab6eb-98e5-477b-b8e2-4512c4811e70",
   "metadata": {},
   "source": [
    "# exporting the eugene ACS data as a csv file\n"
   ]
  },
  {
   "cell_type": "code",
   "execution_count": null,
   "id": "d0e46e95-7575-43b6-915e-cf4447a27fd5",
   "metadata": {
    "tags": []
   },
   "outputs": [],
   "source": [
    "eugene_acs_cleaned.to_csv('acs_5_yr_age_eugene.csv', index=False)"
   ]
  },
  {
   "cell_type": "code",
   "execution_count": null,
   "id": "5a5b6d81-1d7d-4058-a513-40088c0ad500",
   "metadata": {
    "tags": []
   },
   "outputs": [],
   "source": [
    "eugene_acs_hist = plt.barh(eugene_acs_cleaned[\"Age Groups\"], eugene_acs_cleaned[\"Age Group Totals\"])"
   ]
  },
  {
   "cell_type": "code",
   "execution_count": null,
   "id": "9b40827d-e21b-4242-944e-1c38c5194ac9",
   "metadata": {
    "tags": []
   },
   "outputs": [],
   "source": [
    "CAHOOTS_eugene_hist = plt.barh(age_group_totals_eugene[\"Age Group\"], age_group_totals_eugene[\"Age Group Totals\"])"
   ]
  },
  {
   "cell_type": "markdown",
   "id": "a68068f9-bdae-420b-8640-ddc24eae6bba",
   "metadata": {},
   "source": [
    "# Cleaning Springfield ACS Data"
   ]
  },
  {
   "cell_type": "code",
   "execution_count": null,
   "id": "3a2b8c81-4bdc-4d44-ba58-71c17ee41b79",
   "metadata": {
    "tags": []
   },
   "outputs": [],
   "source": [
    "springfield_acs = springfield_acs.loc[:, ['Label (Grouping)',\"Springfield city, Oregon!!Total!!Estimate\"]]\n",
    "springfield_acs = springfield_acs.drop(springfield_acs.index[20:42])\n",
    "springfield_acs = springfield_acs.rename(columns={\"Label (Grouping)\": \"Age Groups\", \"Springfield city, Oregon!!Total!!Estimate\":\"Age Group Totals\"})\n"
   ]
  },
  {
   "cell_type": "code",
   "execution_count": null,
   "id": "247f3429-dd9f-48a3-bf07-63ffb292c1ea",
   "metadata": {
    "tags": []
   },
   "outputs": [],
   "source": [
    "springfield_acs"
   ]
  },
  {
   "cell_type": "code",
   "execution_count": null,
   "id": "142361e2-f00d-4298-acdb-f750690c9af3",
   "metadata": {
    "tags": []
   },
   "outputs": [],
   "source": [
    "sp_data = {\n",
    "    'Age Groups': ['Total population', 'Under 5 years', '5 to 9 years', '10 to 14 years', \n",
    "                   '15 to 19 years', '20 to 24 years', '25 to 29 years', '30 to 34 years', \n",
    "                   '35 to 39 years', '40 to 44 years', '45 to 49 years', '50 to 54 years', \n",
    "                   '55 to 59 years', '60 to 64 years', '65 to 69 years', '70 to 74 years', \n",
    "                   '75 to 79 years', '80 to 84 years', '85 years and over'],\n",
    "    'Age Group Totals': [61740, 3455, 3551, 3838, 3685, 4908, \n",
    "                         4257, 4749, 4574, 3664, 3925, 3828, 3969, \n",
    "                         3645, 3237, 2709, 1580, 943, 1223]\n",
    "}\n",
    "\n",
    "# Create DataFrame\n",
    "springfield_acs_cleaned = pd.DataFrame(sp_data)\n",
    "springfield_acs_cleaned = springfield_acs_cleaned.drop(springfield_acs_cleaned.index[0])\n",
    "\n",
    "# Display tidy data\n",
    "springfield_acs_cleaned"
   ]
  },
  {
   "cell_type": "markdown",
   "id": "293bb08d-2345-48a5-8d1e-6cc42d2f48f3",
   "metadata": {},
   "source": [
    "# springfield ACS data to csv"
   ]
  },
  {
   "cell_type": "code",
   "execution_count": null,
   "id": "044e9fbc-12c0-4748-92d2-349107d3feab",
   "metadata": {
    "tags": []
   },
   "outputs": [],
   "source": [
    "springfield_acs_cleaned.to_csv('acs_age_sprinfield.csv', index=False)"
   ]
  },
  {
   "cell_type": "code",
   "execution_count": null,
   "id": "1fd0b444-6c1f-4bef-b8e9-36fadc69d83c",
   "metadata": {
    "tags": []
   },
   "outputs": [],
   "source": [
    "springfield_acs_hist = plt.barh(springfield_acs_cleaned[\"Age Groups\"], springfield_acs_cleaned[\"Age Group Totals\"])"
   ]
  },
  {
   "cell_type": "code",
   "execution_count": null,
   "id": "ba09b876-0b1c-4cad-b41e-8c4b2c13d5f8",
   "metadata": {
    "tags": []
   },
   "outputs": [],
   "source": [
    "CAHOOTS_springfield_hist = plt.barh(age_group_totals_sp[\"Age Group\"], age_group_totals_sp[\"Age Group Totals\"])"
   ]
  },
  {
   "cell_type": "code",
   "execution_count": null,
   "id": "d96b0fd3-8bab-469a-85fe-173bdb8d60d9",
   "metadata": {
    "tags": []
   },
   "outputs": [],
   "source": [
    "springfield_age_pie = plt.pie(sp_data['Age Group Totals'][1:], labels=sp_data['Age Groups'][1:], autopct='%1.1f%%', startangle=140);"
   ]
  },
  {
   "cell_type": "code",
   "execution_count": null,
   "id": "cbc2b94b-af3c-40e7-b47a-69afc31e96dc",
   "metadata": {},
   "outputs": [],
   "source": [
    "# export the cleaned datasets as csvs and then upload to r to run the Jockheree test\n",
    "#https://pandas.pydata.org/pandas-docs/stable/reference/api/pandas.DataFrame.to_csv.html\n",
    "\n"
   ]
  }
 ],
 "metadata": {
  "kernelspec": {
   "display_name": "Python 3 (ipykernel)",
   "language": "python",
   "name": "python3"
  },
  "language_info": {
   "codemirror_mode": {
    "name": "ipython",
    "version": 3
   },
   "file_extension": ".py",
   "mimetype": "text/x-python",
   "name": "python",
   "nbconvert_exporter": "python",
   "pygments_lexer": "ipython3",
   "version": "3.11.9"
  }
 },
 "nbformat": 4,
 "nbformat_minor": 5
}
